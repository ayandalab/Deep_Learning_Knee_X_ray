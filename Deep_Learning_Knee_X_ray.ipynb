{
  "nbformat": 4,
  "nbformat_minor": 0,
  "metadata": {
    "colab": {
      "name": "Deep Learning Knee X-ray.ipynb",
      "provenance": [],
      "authorship_tag": "ABX9TyPXWDW77lT1s7edoIzy749e",
      "include_colab_link": true
    },
    "kernelspec": {
      "name": "python3",
      "display_name": "Python 3"
    },
    "language_info": {
      "name": "python"
    }
  },
  "cells": [
    {
      "cell_type": "markdown",
      "metadata": {
        "id": "view-in-github",
        "colab_type": "text"
      },
      "source": [
        "<a href=\"https://colab.research.google.com/github/ayandalab/Deep_Learning_Knee_X_ray/blob/main/Deep_Learning_Knee_X_ray.ipynb\" target=\"_parent\"><img src=\"https://colab.research.google.com/assets/colab-badge.svg\" alt=\"Open In Colab\"/></a>"
      ]
    },
    {
      "cell_type": "code",
      "metadata": {
        "id": "xPAbSTdPddcq"
      },
      "source": [
        "from google_drive_downloader import GoogleDriveDownloader as gdd\n",
        "\n",
        "gdd.download_file_from_google_drive(file_id='1NdDqPK4NLn2aV8ZdF5ilux1sfG6IyebC',\n",
        "dest_path='content/KneeXray.zip',\n",
        "unzip=True)"
      ],
      "execution_count": 37,
      "outputs": []
    },
    {
      "cell_type": "code",
      "metadata": {
        "id": "Yxi9bPFdd0Dw"
      },
      "source": [
        "import pandas as pd #\n",
        "import numpy as np # \n",
        "import tensorflow as tf # \n",
        "import os # \n",
        "import cv2 # \n",
        "from sklearn.model_selection import train_test_split # \n",
        "from sklearn.metrics import f1_score"
      ],
      "execution_count": 38,
      "outputs": []
    },
    {
      "cell_type": "code",
      "metadata": {
        "colab": {
          "base_uri": "https://localhost:8080/",
          "height": 202
        },
        "id": "bnr_vjNHmAW3",
        "outputId": "fcba4852-6ef0-4167-c4a4-fb17878232b5"
      },
      "source": [
        "labels = pd.read_csv(\"/content/content/KneeXray/Train.csv\") # loading the labels\n",
        "labels.head() #"
      ],
      "execution_count": 39,
      "outputs": [
        {
          "output_type": "execute_result",
          "data": {
            "text/html": [
              "<div>\n",
              "<style scoped>\n",
              "    .dataframe tbody tr th:only-of-type {\n",
              "        vertical-align: middle;\n",
              "    }\n",
              "\n",
              "    .dataframe tbody tr th {\n",
              "        vertical-align: top;\n",
              "    }\n",
              "\n",
              "    .dataframe thead th {\n",
              "        text-align: right;\n",
              "    }\n",
              "</style>\n",
              "<table border=\"1\" class=\"dataframe\">\n",
              "  <thead>\n",
              "    <tr style=\"text-align: right;\">\n",
              "      <th></th>\n",
              "      <th>filename</th>\n",
              "      <th>label</th>\n",
              "    </tr>\n",
              "  </thead>\n",
              "  <tbody>\n",
              "    <tr>\n",
              "      <th>0</th>\n",
              "      <td>Image_1.jpg</td>\n",
              "      <td>0</td>\n",
              "    </tr>\n",
              "    <tr>\n",
              "      <th>1</th>\n",
              "      <td>Image_2.jpg</td>\n",
              "      <td>1</td>\n",
              "    </tr>\n",
              "    <tr>\n",
              "      <th>2</th>\n",
              "      <td>Image_3.jpg</td>\n",
              "      <td>0</td>\n",
              "    </tr>\n",
              "    <tr>\n",
              "      <th>3</th>\n",
              "      <td>Image_4.jpg</td>\n",
              "      <td>1</td>\n",
              "    </tr>\n",
              "    <tr>\n",
              "      <th>4</th>\n",
              "      <td>Image_5.jpg</td>\n",
              "      <td>2</td>\n",
              "    </tr>\n",
              "  </tbody>\n",
              "</table>\n",
              "</div>"
            ],
            "text/plain": [
              "      filename  label\n",
              "0  Image_1.jpg      0\n",
              "1  Image_2.jpg      1\n",
              "2  Image_3.jpg      0\n",
              "3  Image_4.jpg      1\n",
              "4  Image_5.jpg      2"
            ]
          },
          "metadata": {
            "tags": []
          },
          "execution_count": 39
        }
      ]
    },
    {
      "cell_type": "code",
      "metadata": {
        "colab": {
          "base_uri": "https://localhost:8080/",
          "height": 202
        },
        "id": "Y6ehvmnJmX2X",
        "outputId": "44792bc3-01f5-4814-fd0f-160d05af9ff1"
      },
      "source": [
        "labels.tail() #"
      ],
      "execution_count": 40,
      "outputs": [
        {
          "output_type": "execute_result",
          "data": {
            "text/html": [
              "<div>\n",
              "<style scoped>\n",
              "    .dataframe tbody tr th:only-of-type {\n",
              "        vertical-align: middle;\n",
              "    }\n",
              "\n",
              "    .dataframe tbody tr th {\n",
              "        vertical-align: top;\n",
              "    }\n",
              "\n",
              "    .dataframe thead th {\n",
              "        text-align: right;\n",
              "    }\n",
              "</style>\n",
              "<table border=\"1\" class=\"dataframe\">\n",
              "  <thead>\n",
              "    <tr style=\"text-align: right;\">\n",
              "      <th></th>\n",
              "      <th>filename</th>\n",
              "      <th>label</th>\n",
              "    </tr>\n",
              "  </thead>\n",
              "  <tbody>\n",
              "    <tr>\n",
              "      <th>7823</th>\n",
              "      <td>Image_7824.jpg</td>\n",
              "      <td>0</td>\n",
              "    </tr>\n",
              "    <tr>\n",
              "      <th>7824</th>\n",
              "      <td>Image_7825.jpg</td>\n",
              "      <td>4</td>\n",
              "    </tr>\n",
              "    <tr>\n",
              "      <th>7825</th>\n",
              "      <td>Image_7826.jpg</td>\n",
              "      <td>0</td>\n",
              "    </tr>\n",
              "    <tr>\n",
              "      <th>7826</th>\n",
              "      <td>Image_7827.jpg</td>\n",
              "      <td>2</td>\n",
              "    </tr>\n",
              "    <tr>\n",
              "      <th>7827</th>\n",
              "      <td>Image_7828.jpg</td>\n",
              "      <td>1</td>\n",
              "    </tr>\n",
              "  </tbody>\n",
              "</table>\n",
              "</div>"
            ],
            "text/plain": [
              "            filename  label\n",
              "7823  Image_7824.jpg      0\n",
              "7824  Image_7825.jpg      4\n",
              "7825  Image_7826.jpg      0\n",
              "7826  Image_7827.jpg      2\n",
              "7827  Image_7828.jpg      1"
            ]
          },
          "metadata": {
            "tags": []
          },
          "execution_count": 40
        }
      ]
    },
    {
      "cell_type": "code",
      "metadata": {
        "id": "DNZVT107mnKK"
      },
      "source": [
        "file_paths = [[fname, '/content/content/KneeXray/train/' + fname] for fname in labels['filename']]"
      ],
      "execution_count": 41,
      "outputs": []
    },
    {
      "cell_type": "code",
      "metadata": {
        "colab": {
          "base_uri": "https://localhost:8080/"
        },
        "id": "Tn_2a7dhmu5-",
        "outputId": "21b81c94-79e5-48d1-cf2f-b4d625d79c8d"
      },
      "source": [
        "# Confirm if number of images is same as number of labels given\n",
        "if len(labels) == len(file_paths):\n",
        "    print('Number of labels i.e. ', len(labels), 'matches the number of filenames i.e. ', len(file_paths))\n",
        "else:\n",
        "    print('Number of labels does not match the number of filenames')"
      ],
      "execution_count": 42,
      "outputs": [
        {
          "output_type": "stream",
          "text": [
            "Number of labels i.e.  7828 matches the number of filenames i.e.  7828\n"
          ],
          "name": "stdout"
        }
      ]
    },
    {
      "cell_type": "code",
      "metadata": {
        "colab": {
          "base_uri": "https://localhost:8080/",
          "height": 202
        },
        "id": "8hNHtFhznJTH",
        "outputId": "969ce894-aa73-42c8-d9d0-8a1c8810634f"
      },
      "source": [
        "images = pd.DataFrame(file_paths, columns=['filename', 'filepaths'])\n",
        "images.head()"
      ],
      "execution_count": 43,
      "outputs": [
        {
          "output_type": "execute_result",
          "data": {
            "text/html": [
              "<div>\n",
              "<style scoped>\n",
              "    .dataframe tbody tr th:only-of-type {\n",
              "        vertical-align: middle;\n",
              "    }\n",
              "\n",
              "    .dataframe tbody tr th {\n",
              "        vertical-align: top;\n",
              "    }\n",
              "\n",
              "    .dataframe thead th {\n",
              "        text-align: right;\n",
              "    }\n",
              "</style>\n",
              "<table border=\"1\" class=\"dataframe\">\n",
              "  <thead>\n",
              "    <tr style=\"text-align: right;\">\n",
              "      <th></th>\n",
              "      <th>filename</th>\n",
              "      <th>filepaths</th>\n",
              "    </tr>\n",
              "  </thead>\n",
              "  <tbody>\n",
              "    <tr>\n",
              "      <th>0</th>\n",
              "      <td>Image_1.jpg</td>\n",
              "      <td>/content/content/KneeXray/train/Image_1.jpg</td>\n",
              "    </tr>\n",
              "    <tr>\n",
              "      <th>1</th>\n",
              "      <td>Image_2.jpg</td>\n",
              "      <td>/content/content/KneeXray/train/Image_2.jpg</td>\n",
              "    </tr>\n",
              "    <tr>\n",
              "      <th>2</th>\n",
              "      <td>Image_3.jpg</td>\n",
              "      <td>/content/content/KneeXray/train/Image_3.jpg</td>\n",
              "    </tr>\n",
              "    <tr>\n",
              "      <th>3</th>\n",
              "      <td>Image_4.jpg</td>\n",
              "      <td>/content/content/KneeXray/train/Image_4.jpg</td>\n",
              "    </tr>\n",
              "    <tr>\n",
              "      <th>4</th>\n",
              "      <td>Image_5.jpg</td>\n",
              "      <td>/content/content/KneeXray/train/Image_5.jpg</td>\n",
              "    </tr>\n",
              "  </tbody>\n",
              "</table>\n",
              "</div>"
            ],
            "text/plain": [
              "      filename                                    filepaths\n",
              "0  Image_1.jpg  /content/content/KneeXray/train/Image_1.jpg\n",
              "1  Image_2.jpg  /content/content/KneeXray/train/Image_2.jpg\n",
              "2  Image_3.jpg  /content/content/KneeXray/train/Image_3.jpg\n",
              "3  Image_4.jpg  /content/content/KneeXray/train/Image_4.jpg\n",
              "4  Image_5.jpg  /content/content/KneeXray/train/Image_5.jpg"
            ]
          },
          "metadata": {
            "tags": []
          },
          "execution_count": 43
        }
      ]
    },
    {
      "cell_type": "code",
      "metadata": {
        "colab": {
          "base_uri": "https://localhost:8080/",
          "height": 202
        },
        "id": "sDiE6lVnnSoi",
        "outputId": "e6c64a1b-30ff-411a-8487-bc25af6c0aec"
      },
      "source": [
        "train_data = pd.merge(images, labels, how = 'inner', on = 'filename')\n",
        "train_data.head()"
      ],
      "execution_count": 44,
      "outputs": [
        {
          "output_type": "execute_result",
          "data": {
            "text/html": [
              "<div>\n",
              "<style scoped>\n",
              "    .dataframe tbody tr th:only-of-type {\n",
              "        vertical-align: middle;\n",
              "    }\n",
              "\n",
              "    .dataframe tbody tr th {\n",
              "        vertical-align: top;\n",
              "    }\n",
              "\n",
              "    .dataframe thead th {\n",
              "        text-align: right;\n",
              "    }\n",
              "</style>\n",
              "<table border=\"1\" class=\"dataframe\">\n",
              "  <thead>\n",
              "    <tr style=\"text-align: right;\">\n",
              "      <th></th>\n",
              "      <th>filename</th>\n",
              "      <th>filepaths</th>\n",
              "      <th>label</th>\n",
              "    </tr>\n",
              "  </thead>\n",
              "  <tbody>\n",
              "    <tr>\n",
              "      <th>0</th>\n",
              "      <td>Image_1.jpg</td>\n",
              "      <td>/content/content/KneeXray/train/Image_1.jpg</td>\n",
              "      <td>0</td>\n",
              "    </tr>\n",
              "    <tr>\n",
              "      <th>1</th>\n",
              "      <td>Image_2.jpg</td>\n",
              "      <td>/content/content/KneeXray/train/Image_2.jpg</td>\n",
              "      <td>1</td>\n",
              "    </tr>\n",
              "    <tr>\n",
              "      <th>2</th>\n",
              "      <td>Image_3.jpg</td>\n",
              "      <td>/content/content/KneeXray/train/Image_3.jpg</td>\n",
              "      <td>0</td>\n",
              "    </tr>\n",
              "    <tr>\n",
              "      <th>3</th>\n",
              "      <td>Image_4.jpg</td>\n",
              "      <td>/content/content/KneeXray/train/Image_4.jpg</td>\n",
              "      <td>1</td>\n",
              "    </tr>\n",
              "    <tr>\n",
              "      <th>4</th>\n",
              "      <td>Image_5.jpg</td>\n",
              "      <td>/content/content/KneeXray/train/Image_5.jpg</td>\n",
              "      <td>2</td>\n",
              "    </tr>\n",
              "  </tbody>\n",
              "</table>\n",
              "</div>"
            ],
            "text/plain": [
              "      filename                                    filepaths  label\n",
              "0  Image_1.jpg  /content/content/KneeXray/train/Image_1.jpg      0\n",
              "1  Image_2.jpg  /content/content/KneeXray/train/Image_2.jpg      1\n",
              "2  Image_3.jpg  /content/content/KneeXray/train/Image_3.jpg      0\n",
              "3  Image_4.jpg  /content/content/KneeXray/train/Image_4.jpg      1\n",
              "4  Image_5.jpg  /content/content/KneeXray/train/Image_5.jpg      2"
            ]
          },
          "metadata": {
            "tags": []
          },
          "execution_count": 44
        }
      ]
    },
    {
      "cell_type": "code",
      "metadata": {
        "id": "FOcgusN_nZo7"
      },
      "source": [
        "data = [] # initialize an empty numpy array\n",
        "image_size = 100 # image size taken is 100 here. one can take other size too\n",
        "for i in range(len(train_data)):\n",
        "\n",
        "    img_array = cv2.imread(train_data['filepaths'][i], cv2.IMREAD_GRAYSCALE) # \n",
        "\n",
        "    new_img_array = cv2.resize(img_array, (image_size, image_size)) # \n",
        "    data.append([new_img_array, train_data['label'][i]])"
      ],
      "execution_count": 45,
      "outputs": []
    },
    {
      "cell_type": "code",
      "metadata": {
        "colab": {
          "base_uri": "https://localhost:8080/"
        },
        "id": "l1qswAJhn_Zb",
        "outputId": "eac3da43-277c-404d-e0c6-5ae8ac4354ff"
      },
      "source": [
        "# image pixels of a image\n",
        "data[0]"
      ],
      "execution_count": 46,
      "outputs": [
        {
          "output_type": "execute_result",
          "data": {
            "text/plain": [
              "[array([[114, 118, 125, ..., 113, 108, 102],\n",
              "        [115, 119, 124, ..., 110, 108,  99],\n",
              "        [113, 118, 122, ..., 109, 104, 100],\n",
              "        ...,\n",
              "        [ 82,  81,  83, ..., 111, 113, 110],\n",
              "        [ 81,  80,  84, ..., 114, 114, 112],\n",
              "        [ 82,  82,  85, ..., 119, 115, 114]], dtype=uint8), 0]"
            ]
          },
          "metadata": {
            "tags": []
          },
          "execution_count": 46
        }
      ]
    },
    {
      "cell_type": "code",
      "metadata": {
        "id": "osU96Ib_ufqU"
      },
      "source": [
        "np.random.shuffle(data)"
      ],
      "execution_count": 47,
      "outputs": []
    },
    {
      "cell_type": "code",
      "metadata": {
        "id": "ZukotXC6ulzd"
      },
      "source": [
        "x = []\n",
        "y = []\n",
        "for image in data:\n",
        "    x.append(image[0])\n",
        "    y.append(image[1])\n",
        "\n",
        "# converting x & y to numpy array as they are list\n",
        "x = np.array(x)\n",
        "y = np.array(y)"
      ],
      "execution_count": 48,
      "outputs": []
    },
    {
      "cell_type": "code",
      "metadata": {
        "colab": {
          "base_uri": "https://localhost:8080/"
        },
        "id": "LsgoCAaeuvty",
        "outputId": "6b3f9bc6-f752-40b7-ff4f-8a01ccb79164"
      },
      "source": [
        "np.unique(y, return_counts=True)"
      ],
      "execution_count": 49,
      "outputs": [
        {
          "output_type": "execute_result",
          "data": {
            "text/plain": [
              "(array([0, 1, 2, 3, 4]), array([3085, 1416, 2062, 1029,  236]))"
            ]
          },
          "metadata": {
            "tags": []
          },
          "execution_count": 49
        }
      ]
    },
    {
      "cell_type": "code",
      "metadata": {
        "id": "tYhPzCCyu0XU"
      },
      "source": [
        "x = x.reshape(-1, 100, 100, 1)"
      ],
      "execution_count": 50,
      "outputs": []
    },
    {
      "cell_type": "code",
      "metadata": {
        "id": "uQjCUe5Ju4P8"
      },
      "source": [
        "# split the data\n",
        "X_train, X_val, y_train, y_val = train_test_split(x,y,test_size=0.3, random_state = 42)"
      ],
      "execution_count": 51,
      "outputs": []
    },
    {
      "cell_type": "code",
      "metadata": {
        "id": "7IF-jlqWu9Eu"
      },
      "source": [
        "cnn = tf.keras.models.Sequential([\n",
        "tf.keras.layers.Conv2D(filters=32, kernel_size=(3, 3), activation='relu', input_shape=(100, 100, 1)),\n",
        "tf.keras.layers.MaxPooling2D((2, 2)),\n",
        "\n",
        "tf.keras.layers.Conv2D(filters=64, kernel_size=(3, 3), activation='relu'),\n",
        "tf.keras.layers.MaxPooling2D((2, 2)),\n",
        "\n",
        "# tf.keras.layers.Flatten(input_shape=(100, 100, 1)),\n",
        "tf.keras.layers.Flatten(),\n",
        "tf.keras.layers.Dense(64, activation='relu'),\n",
        "tf.keras.layers.Dense(32, activation='relu'),\n",
        "tf.keras.layers.Dense(16, activation='relu'),\n",
        "tf.keras.layers.Dense(8, activation='relu'),\n",
        "tf.keras.layers.Dense(5, activation='sigmoid')\n",
        "])"
      ],
      "execution_count": 52,
      "outputs": []
    },
    {
      "cell_type": "code",
      "metadata": {
        "id": "brRSTn5HvTjL"
      },
      "source": [
        "cnn.compile(optimizer='adam',\n",
        "loss='sparse_categorical_crossentropy',\n",
        "metrics=['accuracy'])"
      ],
      "execution_count": 53,
      "outputs": []
    },
    {
      "cell_type": "code",
      "metadata": {
        "colab": {
          "base_uri": "https://localhost:8080/"
        },
        "id": "rz_2bDoIwR-M",
        "outputId": "1c78ad02-582c-4f17-8da9-ee101052c08c"
      },
      "source": [
        "cnn.fit(X_train, y_train, epochs=15, batch_size=20)"
      ],
      "execution_count": 54,
      "outputs": [
        {
          "output_type": "stream",
          "text": [
            "Epoch 1/15\n",
            "274/274 [==============================] - 62s 222ms/step - loss: 2.6992 - accuracy: 0.3238\n",
            "Epoch 2/15\n",
            "274/274 [==============================] - 61s 222ms/step - loss: 1.4128 - accuracy: 0.3897\n",
            "Epoch 3/15\n",
            "274/274 [==============================] - 61s 221ms/step - loss: 1.3983 - accuracy: 0.3998\n",
            "Epoch 4/15\n",
            "274/274 [==============================] - 60s 221ms/step - loss: 1.3761 - accuracy: 0.4007\n",
            "Epoch 5/15\n",
            "274/274 [==============================] - 61s 221ms/step - loss: 1.3699 - accuracy: 0.4010\n",
            "Epoch 6/15\n",
            "274/274 [==============================] - 61s 221ms/step - loss: 1.4214 - accuracy: 0.4000\n",
            "Epoch 7/15\n",
            "274/274 [==============================] - 60s 220ms/step - loss: 1.3808 - accuracy: 0.3978\n",
            "Epoch 8/15\n",
            "274/274 [==============================] - 61s 222ms/step - loss: 1.3768 - accuracy: 0.4013\n",
            "Epoch 9/15\n",
            "274/274 [==============================] - 61s 222ms/step - loss: 1.3628 - accuracy: 0.4133\n",
            "Epoch 10/15\n",
            "274/274 [==============================] - 61s 224ms/step - loss: 1.3658 - accuracy: 0.4144\n",
            "Epoch 11/15\n",
            "274/274 [==============================] - 61s 223ms/step - loss: 1.3679 - accuracy: 0.4016\n",
            "Epoch 12/15\n",
            "274/274 [==============================] - 61s 223ms/step - loss: 1.3429 - accuracy: 0.4149\n",
            "Epoch 13/15\n",
            "274/274 [==============================] - 61s 223ms/step - loss: 1.3486 - accuracy: 0.4107\n",
            "Epoch 14/15\n",
            "274/274 [==============================] - 61s 224ms/step - loss: 1.3410 - accuracy: 0.4198\n",
            "Epoch 15/15\n",
            "274/274 [==============================] - 61s 223ms/step - loss: 1.3302 - accuracy: 0.4213\n"
          ],
          "name": "stdout"
        },
        {
          "output_type": "execute_result",
          "data": {
            "text/plain": [
              "<tensorflow.python.keras.callbacks.History at 0x7f2713ec7810>"
            ]
          },
          "metadata": {
            "tags": []
          },
          "execution_count": 54
        }
      ]
    },
    {
      "cell_type": "code",
      "metadata": {
        "colab": {
          "base_uri": "https://localhost:8080/"
        },
        "id": "M18njO20xFuG",
        "outputId": "3d9bc8d5-aa88-45d9-bc47-4a5ce108db11"
      },
      "source": [
        "cnn.evaluate(X_val, y_val)"
      ],
      "execution_count": 55,
      "outputs": [
        {
          "output_type": "stream",
          "text": [
            "74/74 [==============================] - 7s 95ms/step - loss: 1.6373 - accuracy: 0.3929\n"
          ],
          "name": "stdout"
        },
        {
          "output_type": "execute_result",
          "data": {
            "text/plain": [
              "[1.637315034866333, 0.3929331600666046]"
            ]
          },
          "metadata": {
            "tags": []
          },
          "execution_count": 55
        }
      ]
    },
    {
      "cell_type": "code",
      "metadata": {
        "id": "w-2NBUt2QJE8",
        "outputId": "91ade789-2eeb-48f7-cb8b-57acd23972cb",
        "colab": {
          "base_uri": "https://localhost:8080/",
          "height": 202
        }
      },
      "source": [
        "# Loading the order of the image's name that has been provided\n",
        "test_image_order = pd.read_csv(\"/content/content/KneeXray/Test.csv\")\n",
        "test_image_order.head()"
      ],
      "execution_count": 56,
      "outputs": [
        {
          "output_type": "execute_result",
          "data": {
            "text/html": [
              "<div>\n",
              "<style scoped>\n",
              "    .dataframe tbody tr th:only-of-type {\n",
              "        vertical-align: middle;\n",
              "    }\n",
              "\n",
              "    .dataframe tbody tr th {\n",
              "        vertical-align: top;\n",
              "    }\n",
              "\n",
              "    .dataframe thead th {\n",
              "        text-align: right;\n",
              "    }\n",
              "</style>\n",
              "<table border=\"1\" class=\"dataframe\">\n",
              "  <thead>\n",
              "    <tr style=\"text-align: right;\">\n",
              "      <th></th>\n",
              "      <th>filename</th>\n",
              "    </tr>\n",
              "  </thead>\n",
              "  <tbody>\n",
              "    <tr>\n",
              "      <th>0</th>\n",
              "      <td>Image_1.jpg</td>\n",
              "    </tr>\n",
              "    <tr>\n",
              "      <th>1</th>\n",
              "      <td>Image_2.jpg</td>\n",
              "    </tr>\n",
              "    <tr>\n",
              "      <th>2</th>\n",
              "      <td>Image_3.jpg</td>\n",
              "    </tr>\n",
              "    <tr>\n",
              "      <th>3</th>\n",
              "      <td>Image_4.jpg</td>\n",
              "    </tr>\n",
              "    <tr>\n",
              "      <th>4</th>\n",
              "      <td>Image_5.jpg</td>\n",
              "    </tr>\n",
              "  </tbody>\n",
              "</table>\n",
              "</div>"
            ],
            "text/plain": [
              "      filename\n",
              "0  Image_1.jpg\n",
              "1  Image_2.jpg\n",
              "2  Image_3.jpg\n",
              "3  Image_4.jpg\n",
              "4  Image_5.jpg"
            ]
          },
          "metadata": {
            "tags": []
          },
          "execution_count": 56
        }
      ]
    },
    {
      "cell_type": "code",
      "metadata": {
        "id": "YNcdpMT8Xlne"
      },
      "source": [
        "file_paths = [[fname, '/content/content/KneeXray/test/' + fname] for fname in test_image_order['filename']]"
      ],
      "execution_count": 57,
      "outputs": []
    },
    {
      "cell_type": "code",
      "metadata": {
        "id": "QFNOFFUiXsQB",
        "outputId": "d992e704-8399-46d3-db7f-a2016d662c55",
        "colab": {
          "base_uri": "https://localhost:8080/"
        }
      },
      "source": [
        "# Confirm if number of images is same as number of labels given\n",
        "if len(test_image_order) == len(file_paths):\n",
        "    print('Number of image names i.e. ', len(test_image_order), 'matches the number of file paths i.e. ', len(file_paths))\n",
        "else:\n",
        "    print('Number of image names does not match the number of filepaths')"
      ],
      "execution_count": 58,
      "outputs": [
        {
          "output_type": "stream",
          "text": [
            "Number of image names i.e.  1958 matches the number of file paths i.e.  1958\n"
          ],
          "name": "stdout"
        }
      ]
    },
    {
      "cell_type": "code",
      "metadata": {
        "id": "5fCE8aZPX0Og",
        "outputId": "ec80673a-d15d-49d3-b38c-166e9a11f4af",
        "colab": {
          "base_uri": "https://localhost:8080/",
          "height": 202
        }
      },
      "source": [
        "test_images = pd.DataFrame(file_paths, columns=['filename', 'filepaths'])\n",
        "test_images.head()"
      ],
      "execution_count": 59,
      "outputs": [
        {
          "output_type": "execute_result",
          "data": {
            "text/html": [
              "<div>\n",
              "<style scoped>\n",
              "    .dataframe tbody tr th:only-of-type {\n",
              "        vertical-align: middle;\n",
              "    }\n",
              "\n",
              "    .dataframe tbody tr th {\n",
              "        vertical-align: top;\n",
              "    }\n",
              "\n",
              "    .dataframe thead th {\n",
              "        text-align: right;\n",
              "    }\n",
              "</style>\n",
              "<table border=\"1\" class=\"dataframe\">\n",
              "  <thead>\n",
              "    <tr style=\"text-align: right;\">\n",
              "      <th></th>\n",
              "      <th>filename</th>\n",
              "      <th>filepaths</th>\n",
              "    </tr>\n",
              "  </thead>\n",
              "  <tbody>\n",
              "    <tr>\n",
              "      <th>0</th>\n",
              "      <td>Image_1.jpg</td>\n",
              "      <td>/content/content/KneeXray/test/Image_1.jpg</td>\n",
              "    </tr>\n",
              "    <tr>\n",
              "      <th>1</th>\n",
              "      <td>Image_2.jpg</td>\n",
              "      <td>/content/content/KneeXray/test/Image_2.jpg</td>\n",
              "    </tr>\n",
              "    <tr>\n",
              "      <th>2</th>\n",
              "      <td>Image_3.jpg</td>\n",
              "      <td>/content/content/KneeXray/test/Image_3.jpg</td>\n",
              "    </tr>\n",
              "    <tr>\n",
              "      <th>3</th>\n",
              "      <td>Image_4.jpg</td>\n",
              "      <td>/content/content/KneeXray/test/Image_4.jpg</td>\n",
              "    </tr>\n",
              "    <tr>\n",
              "      <th>4</th>\n",
              "      <td>Image_5.jpg</td>\n",
              "      <td>/content/content/KneeXray/test/Image_5.jpg</td>\n",
              "    </tr>\n",
              "  </tbody>\n",
              "</table>\n",
              "</div>"
            ],
            "text/plain": [
              "      filename                                   filepaths\n",
              "0  Image_1.jpg  /content/content/KneeXray/test/Image_1.jpg\n",
              "1  Image_2.jpg  /content/content/KneeXray/test/Image_2.jpg\n",
              "2  Image_3.jpg  /content/content/KneeXray/test/Image_3.jpg\n",
              "3  Image_4.jpg  /content/content/KneeXray/test/Image_4.jpg\n",
              "4  Image_5.jpg  /content/content/KneeXray/test/Image_5.jpg"
            ]
          },
          "metadata": {
            "tags": []
          },
          "execution_count": 59
        }
      ]
    },
    {
      "cell_type": "code",
      "metadata": {
        "id": "di7TBkBlX4Ss"
      },
      "source": [
        "test_pixel_data = [] # initialize an empty numpy array\n",
        "image_size = 100 # image size taken is 100 here. one can take other size too\n",
        "for i in range(len(test_images)):\n",
        "\n",
        "    img_array = cv2.imread(test_images['filepaths'][i], cv2.IMREAD_GRAYSCALE) # converting the image to gray scale\n",
        "\n",
        "    new_img_array = cv2.resize(img_array, (image_size, image_size)) # resizing the image array\n",
        "\n",
        "    test_pixel_data.append(new_img_array)"
      ],
      "execution_count": 60,
      "outputs": []
    },
    {
      "cell_type": "code",
      "metadata": {
        "id": "-Ahby1nbYFpR"
      },
      "source": [
        "test_pixel_data = np.array(test_pixel_data)"
      ],
      "execution_count": 61,
      "outputs": []
    },
    {
      "cell_type": "code",
      "metadata": {
        "id": "VGTYvvGUYJjd"
      },
      "source": [
        "test_pixel_data = test_pixel_data.reshape(-1, 100, 100, 1)"
      ],
      "execution_count": 62,
      "outputs": []
    },
    {
      "cell_type": "code",
      "metadata": {
        "id": "dwToXgM9YMbE"
      },
      "source": [
        "pred = cnn.predict(test_pixel_data)"
      ],
      "execution_count": 63,
      "outputs": []
    },
    {
      "cell_type": "code",
      "metadata": {
        "id": "_1bTDrI_Yj63",
        "outputId": "f3fb4ee6-880b-4765-dd78-ee268a8d3d34",
        "colab": {
          "base_uri": "https://localhost:8080/"
        }
      },
      "source": [
        "# The predicted values are the probabilities value\n",
        "pred[0]"
      ],
      "execution_count": 64,
      "outputs": [
        {
          "output_type": "execute_result",
          "data": {
            "text/plain": [
              "array([0.6728878 , 0.4839225 , 0.58772254, 0.40800232, 0.13510704],\n",
              "      dtype=float32)"
            ]
          },
          "metadata": {
            "tags": []
          },
          "execution_count": 64
        }
      ]
    },
    {
      "cell_type": "code",
      "metadata": {
        "id": "i8ccEMTfYxr9"
      },
      "source": [
        "prediction = []\n",
        "for value in pred:\n",
        "    prediction.append(np.argmax(value))"
      ],
      "execution_count": 65,
      "outputs": []
    },
    {
      "cell_type": "code",
      "metadata": {
        "id": "uZRLXpvPY4Tm",
        "outputId": "28805afe-0c6f-4f32-89c8-160dac2791e3",
        "colab": {
          "base_uri": "https://localhost:8080/"
        }
      },
      "source": [
        "prediction[0]"
      ],
      "execution_count": 66,
      "outputs": [
        {
          "output_type": "execute_result",
          "data": {
            "text/plain": [
              "0"
            ]
          },
          "metadata": {
            "tags": []
          },
          "execution_count": 66
        }
      ]
    },
    {
      "cell_type": "code",
      "metadata": {
        "id": "zLUK-y7PY8XU",
        "outputId": "3135791b-70c2-4ea1-8acc-0d63dc36c3b0",
        "colab": {
          "base_uri": "https://localhost:8080/",
          "height": 17
        }
      },
      "source": [
        "res = pd.DataFrame({'filename': test_images['filename'], 'label': prediction}) # prediction is nothing but the final predictions of your model on input features of your new unseen test data\n",
        "res.to_csv(\"submission.csv\", index = False)\n",
        "\n",
        "# To download the csv file locally\n",
        "from google.colab import files\n",
        "files.download('submission.csv')"
      ],
      "execution_count": 67,
      "outputs": [
        {
          "output_type": "display_data",
          "data": {
            "application/javascript": [
              "\n",
              "    async function download(id, filename, size) {\n",
              "      if (!google.colab.kernel.accessAllowed) {\n",
              "        return;\n",
              "      }\n",
              "      const div = document.createElement('div');\n",
              "      const label = document.createElement('label');\n",
              "      label.textContent = `Downloading \"${filename}\": `;\n",
              "      div.appendChild(label);\n",
              "      const progress = document.createElement('progress');\n",
              "      progress.max = size;\n",
              "      div.appendChild(progress);\n",
              "      document.body.appendChild(div);\n",
              "\n",
              "      const buffers = [];\n",
              "      let downloaded = 0;\n",
              "\n",
              "      const channel = await google.colab.kernel.comms.open(id);\n",
              "      // Send a message to notify the kernel that we're ready.\n",
              "      channel.send({})\n",
              "\n",
              "      for await (const message of channel.messages) {\n",
              "        // Send a message to notify the kernel that we're ready.\n",
              "        channel.send({})\n",
              "        if (message.buffers) {\n",
              "          for (const buffer of message.buffers) {\n",
              "            buffers.push(buffer);\n",
              "            downloaded += buffer.byteLength;\n",
              "            progress.value = downloaded;\n",
              "          }\n",
              "        }\n",
              "      }\n",
              "      const blob = new Blob(buffers, {type: 'application/binary'});\n",
              "      const a = document.createElement('a');\n",
              "      a.href = window.URL.createObjectURL(blob);\n",
              "      a.download = filename;\n",
              "      div.appendChild(a);\n",
              "      a.click();\n",
              "      div.remove();\n",
              "    }\n",
              "  "
            ],
            "text/plain": [
              "<IPython.core.display.Javascript object>"
            ]
          },
          "metadata": {
            "tags": []
          }
        },
        {
          "output_type": "display_data",
          "data": {
            "application/javascript": [
              "download(\"download_456f029e-0a1d-472c-b81b-a3ad8ff36a4b\", \"submission.csv\", 32194)"
            ],
            "text/plain": [
              "<IPython.core.display.Javascript object>"
            ]
          },
          "metadata": {
            "tags": []
          }
        }
      ]
    },
    {
      "cell_type": "code",
      "metadata": {
        "id": "0LLWaVKikIIX"
      },
      "source": [
        ""
      ],
      "execution_count": null,
      "outputs": []
    }
  ]
}